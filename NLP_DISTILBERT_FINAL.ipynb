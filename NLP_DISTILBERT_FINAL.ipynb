{
  "cells": [
    {
      "cell_type": "code",
      "source": [
        "pip install datasets"
      ],
      "metadata": {
        "id": "dXbYtJ-pNQ4A",
        "colab": {
          "base_uri": "https://localhost:8080/",
          "height": 0
        },
        "outputId": "4ed18277-b27a-40c1-be7b-6768469553cd"
      },
      "id": "dXbYtJ-pNQ4A",
      "execution_count": 27,
      "outputs": [
        {
          "output_type": "stream",
          "name": "stdout",
          "text": [
            "Requirement already satisfied: datasets in /usr/local/lib/python3.10/dist-packages (3.1.0)\n",
            "Requirement already satisfied: filelock in /usr/local/lib/python3.10/dist-packages (from datasets) (3.16.1)\n",
            "Requirement already satisfied: numpy>=1.17 in /usr/local/lib/python3.10/dist-packages (from datasets) (1.26.4)\n",
            "Requirement already satisfied: pyarrow>=15.0.0 in /usr/local/lib/python3.10/dist-packages (from datasets) (17.0.0)\n",
            "Requirement already satisfied: dill<0.3.9,>=0.3.0 in /usr/local/lib/python3.10/dist-packages (from datasets) (0.3.8)\n",
            "Requirement already satisfied: pandas in /usr/local/lib/python3.10/dist-packages (from datasets) (2.2.2)\n",
            "Requirement already satisfied: requests>=2.32.2 in /usr/local/lib/python3.10/dist-packages (from datasets) (2.32.3)\n",
            "Requirement already satisfied: tqdm>=4.66.3 in /usr/local/lib/python3.10/dist-packages (from datasets) (4.66.6)\n",
            "Requirement already satisfied: xxhash in /usr/local/lib/python3.10/dist-packages (from datasets) (3.5.0)\n",
            "Requirement already satisfied: multiprocess<0.70.17 in /usr/local/lib/python3.10/dist-packages (from datasets) (0.70.16)\n",
            "Requirement already satisfied: fsspec<=2024.9.0,>=2023.1.0 in /usr/local/lib/python3.10/dist-packages (from fsspec[http]<=2024.9.0,>=2023.1.0->datasets) (2024.9.0)\n",
            "Requirement already satisfied: aiohttp in /usr/local/lib/python3.10/dist-packages (from datasets) (3.11.2)\n",
            "Requirement already satisfied: huggingface-hub>=0.23.0 in /usr/local/lib/python3.10/dist-packages (from datasets) (0.26.2)\n",
            "Requirement already satisfied: packaging in /usr/local/lib/python3.10/dist-packages (from datasets) (24.2)\n",
            "Requirement already satisfied: pyyaml>=5.1 in /usr/local/lib/python3.10/dist-packages (from datasets) (6.0.2)\n",
            "Requirement already satisfied: aiohappyeyeballs>=2.3.0 in /usr/local/lib/python3.10/dist-packages (from aiohttp->datasets) (2.4.3)\n",
            "Requirement already satisfied: aiosignal>=1.1.2 in /usr/local/lib/python3.10/dist-packages (from aiohttp->datasets) (1.3.1)\n",
            "Requirement already satisfied: attrs>=17.3.0 in /usr/local/lib/python3.10/dist-packages (from aiohttp->datasets) (24.2.0)\n",
            "Requirement already satisfied: frozenlist>=1.1.1 in /usr/local/lib/python3.10/dist-packages (from aiohttp->datasets) (1.5.0)\n",
            "Requirement already satisfied: multidict<7.0,>=4.5 in /usr/local/lib/python3.10/dist-packages (from aiohttp->datasets) (6.1.0)\n",
            "Requirement already satisfied: propcache>=0.2.0 in /usr/local/lib/python3.10/dist-packages (from aiohttp->datasets) (0.2.0)\n",
            "Requirement already satisfied: yarl<2.0,>=1.17.0 in /usr/local/lib/python3.10/dist-packages (from aiohttp->datasets) (1.17.2)\n",
            "Requirement already satisfied: async-timeout<6.0,>=4.0 in /usr/local/lib/python3.10/dist-packages (from aiohttp->datasets) (4.0.3)\n",
            "Requirement already satisfied: typing-extensions>=3.7.4.3 in /usr/local/lib/python3.10/dist-packages (from huggingface-hub>=0.23.0->datasets) (4.12.2)\n",
            "Requirement already satisfied: charset-normalizer<4,>=2 in /usr/local/lib/python3.10/dist-packages (from requests>=2.32.2->datasets) (3.4.0)\n",
            "Requirement already satisfied: idna<4,>=2.5 in /usr/local/lib/python3.10/dist-packages (from requests>=2.32.2->datasets) (3.10)\n",
            "Requirement already satisfied: urllib3<3,>=1.21.1 in /usr/local/lib/python3.10/dist-packages (from requests>=2.32.2->datasets) (2.2.3)\n",
            "Requirement already satisfied: certifi>=2017.4.17 in /usr/local/lib/python3.10/dist-packages (from requests>=2.32.2->datasets) (2024.8.30)\n",
            "Requirement already satisfied: python-dateutil>=2.8.2 in /usr/local/lib/python3.10/dist-packages (from pandas->datasets) (2.8.2)\n",
            "Requirement already satisfied: pytz>=2020.1 in /usr/local/lib/python3.10/dist-packages (from pandas->datasets) (2024.2)\n",
            "Requirement already satisfied: tzdata>=2022.7 in /usr/local/lib/python3.10/dist-packages (from pandas->datasets) (2024.2)\n",
            "Requirement already satisfied: six>=1.5 in /usr/local/lib/python3.10/dist-packages (from python-dateutil>=2.8.2->pandas->datasets) (1.16.0)\n"
          ]
        }
      ]
    },
    {
      "cell_type": "code",
      "execution_count": 28,
      "id": "cb202b00-61a5-488c-9415-fdc9db918adc",
      "metadata": {
        "id": "cb202b00-61a5-488c-9415-fdc9db918adc"
      },
      "outputs": [],
      "source": [
        "import pandas as pd\n",
        "from sklearn.model_selection import train_test_split\n",
        "from datasets import Dataset\n",
        "\n",
        "\n",
        "# Load dataset\n",
        "data = pd.read_csv(\"bbc_text_cls.csv\") # Replace with the actual dataset path\n",
        "data = data[['text', 'labels']]         # Ensure \"labels\" column name is accurate\n"
      ]
    },
    {
      "cell_type": "code",
      "source": [
        "import pandas as pd\n",
        "import matplotlib.pyplot as plt\n",
        "import seaborn as sns\n",
        "\n",
        "# Define the label-to-category mapping\n",
        "label_mapping = {\n",
        "    0: \"Business\",\n",
        "    1: \"Entertainment\",\n",
        "    2: \"Politics\",\n",
        "    3: \"Sport\",\n",
        "    4: \"Tech\"\n",
        "}\n",
        "\n",
        "# Assuming `data` is your DataFrame containing the numeric labels in 'label' column\n",
        "# Map numeric labels to category names\n",
        "data['category'] = data['labels'].replace(label_mapping)\n",
        "\n",
        "# Calculate the count of each category\n",
        "label_counts = data['category'].value_counts()\n",
        "\n",
        "# Enhanced bar chart using Matplotlib\n",
        "plt.figure(figsize=(10, 6))\n",
        "bars = plt.bar(label_counts.index, label_counts.values, color=sns.color_palette(\"viridis\", len(label_counts)))\n",
        "\n",
        "# Add value annotations above each bar\n",
        "for bar in bars:\n",
        "    yval = bar.get_height()\n",
        "    plt.text(bar.get_x() + bar.get_width()/2, yval + 1, int(yval), ha='center', va='bottom', fontsize=12)\n",
        "\n",
        "# Customize the chart\n",
        "plt.xlabel(\"Categories\", fontsize=14)\n",
        "plt.ylabel(\"Count\", fontsize=14)\n",
        "plt.title(\"Distribution of Categories\", fontsize=16, fontweight=\"bold\")\n",
        "plt.xticks(rotation=0, fontsize=12)\n",
        "plt.yticks(fontsize=12)\n",
        "\n",
        "plt.tight_layout()\n",
        "plt.show()\n"
      ],
      "metadata": {
        "colab": {
          "base_uri": "https://localhost:8080/",
          "height": 607
        },
        "id": "vnJrPx44WKAp",
        "outputId": "f7bd1ae2-4af5-4591-fb6e-6083aa7ecb00"
      },
      "id": "vnJrPx44WKAp",
      "execution_count": 29,
      "outputs": [
        {
          "output_type": "display_data",
          "data": {
            "text/plain": [
              "<Figure size 1000x600 with 1 Axes>"
            ],
            "image/png": "[encoded data removed]"
          },
          "metadata": {}
        }
      ]
    },
    {
      "cell_type": "code",
      "execution_count": 30,
      "id": "0334bc2b-4896-4978-911b-18ee4d56241c",
      "metadata": {
        "id": "0334bc2b-4896-4978-911b-18ee4d56241c"
      },
      "outputs": [],
      "source": [
        "# Encode labels to numerical values\n",
        "data['label'] = data['labels'].astype('category').cat.codes\n",
        "\n",
        "# Step 1: Split into training and test sets (80-20 split) - test set is set aside for final evaluation\n",
        "train_data, test_data = train_test_split(data, test_size=0.2, random_state=42,stratify=data['label'])\n",
        "\n",
        "# Step 2: Further split train_data into training and validation sets (80-20 split of training data)\n",
        "train_texts, val_texts, train_labels, val_labels = train_test_split(\n",
        "    train_data['text'], train_data['label'], test_size=0.2, random_state=42, stratify=train_data['label']\n",
        ")\n",
        "\n",
        "# Step 3: Convert to Hugging Face Dataset format\n",
        "train_data = Dataset.from_dict({'text': train_texts, 'label': train_labels})\n",
        "val_data = Dataset.from_dict({'text': val_texts, 'label': val_labels})\n",
        "test_data = Dataset.from_dict({'text': test_data['text'], 'label': test_data['label']})"
      ]
    },
    {
      "cell_type": "code",
      "execution_count": 31,
      "id": "aff25273-a94f-41ff-a328-2c57c7896886",
      "metadata": {
        "colab": {
          "base_uri": "https://localhost:8080/",
          "height": 113,
          "referenced_widgets": [
            "4416a555c0224673bb52f492a80090e7",
            "8e7175782e674155b97dc2e0034a1535",
            "a40cfe1a4e4c45e7aafbf33ce215e83c",
            "ab70dfbbee2441d18df33180277ecf66",
            "5ae32593307548e1bd8164e75c0b9e69",
            "01aad0cf073f4f3487fa89b580441f68",
            "a7a2ce57228e439e9859a98f0701f448",
            "280fafd694d345169684afe97133e39a",
            "d26e1d1e93b442d5ad65224aa4f0f984",
            "e64ec7a9aac448d984469072664e0998",
            "9cbc0745a1bc491d901e288895b045c0",
            "2d5569453bc04e7fadb407abc2fd088d",
            "2fa2449a927c4b71b40e06aa24094780",
            "31d8fc43499348948eff025bffe19528",
            "41d3ea2570594609ab45f6fd86016d41",
            "b2072c60a26b4f3f8868f66169286f27",
            "3b83527e686444958e86e0799f53ed74",
            "6d1db6ff330e4cde97a92479fe7f9653",
            "fcb079cfe2064e8d89f4fc0d0b01c5ac",
            "c4ec24d1047a419097c559930da60280",
            "0eba80021ab44336a0d7202302807c6a",
            "cbc289c0627b47d79febfd3135d1b2ff",
            "0915d763985a471895835643dbb74899",
            "a48d042e8c6942beabc4dcdd3b6ce200",
            "c5cf30a5716a418f823c87163ccc3768",
            "54d136ab4e704e0cb25b38d16ec9a70f",
            "bbfd7e93631b459784970aa632074c80",
            "ef925c85e1f04ba88860c94b93afaa9f",
            "46c63e9939af4b2ba15f4eb4211ad72c",
            "09bc563e648e4a17be9d7708b2814b1d",
            "574352f81b4c4d8c8e65ce4c59e55b05",
            "ba40c631dfea41cb8165f2366940a4cd",
            "6307d8cb7741468db70080475eda63fa"
          ]
        },
        "id": "aff25273-a94f-41ff-a328-2c57c7896886",
        "outputId": "91e0bc32-82c0-4d36-da8f-86ec5a2834fb"
      },
      "outputs": [
        {
          "output_type": "display_data",
          "data": {
            "text/plain": [
              "Map:   0%|          | 0/1424 [00:00<?, ? examples/s]"
            ],
            "application/vnd.jupyter.widget-view+json": {
              "version_major": 2,
              "version_minor": 0,
              "model_id": "4416a555c0224673bb52f492a80090e7"
            }
          },
          "metadata": {}
        },
        {
          "output_type": "display_data",
          "data": {
            "text/plain": [
              "Map:   0%|          | 0/356 [00:00<?, ? examples/s]"
            ],
            "application/vnd.jupyter.widget-view+json": {
              "version_major": 2,
              "version_minor": 0,
              "model_id": "2d5569453bc04e7fadb407abc2fd088d"
            }
          },
          "metadata": {}
        },
        {
          "output_type": "display_data",
          "data": {
            "text/plain": [
              "Map:   0%|          | 0/445 [00:00<?, ? examples/s]"
            ],
            "application/vnd.jupyter.widget-view+json": {
              "version_major": 2,
              "version_minor": 0,
              "model_id": "0915d763985a471895835643dbb74899"
            }
          },
          "metadata": {}
        }
      ],
      "source": [
        "from transformers import DistilBertTokenizer\n",
        "\n",
        "# Load DistilBERT tokenizer\n",
        "tokenizer = DistilBertTokenizer.from_pretrained('distilbert-base-uncased')\n",
        "\n",
        "# Tokenize function\n",
        "def tokenize_function(example):\n",
        "    return tokenizer(example['text'], padding='max_length', truncation=True, max_length=128)\n",
        "\n",
        "\n",
        "# Tokenize datasets\n",
        "train_data = train_data.map(tokenize_function, batched=True)\n",
        "val_data = val_data.map(tokenize_function, batched=True)\n",
        "test_data = test_data.map(tokenize_function, batched=True)\n",
        "\n",
        "# Set the format for PyTorch\n",
        "train_data.set_format(type='torch', columns=['input_ids', 'attention_mask', 'label'])\n",
        "val_data.set_format(type='torch', columns=['input_ids', 'attention_mask', 'label'])\n",
        "test_data.set_format(type='torch', columns=['input_ids', 'attention_mask', 'label'])\n",
        "\n"
      ]
    },
    {
      "cell_type": "code",
      "execution_count": 32,
      "id": "ed1dd028-806f-4941-bc4b-282797d6a9d4",
      "metadata": {
        "colab": {
          "base_uri": "https://localhost:8080/",
          "height": 0
        },
        "id": "ed1dd028-806f-4941-bc4b-282797d6a9d4",
        "outputId": "b0cf00af-b181-4f71-e670-9acec76be909"
      },
      "outputs": [
        {
          "output_type": "stream",
          "name": "stderr",
          "text": [
            "Some weights of DistilBertForSequenceClassification were not initialized from the model checkpoint at distilbert-base-uncased and are newly initialized: ['classifier.bias', 'classifier.weight', 'pre_classifier.bias', 'pre_classifier.weight']\n",
            "You should probably TRAIN this model on a down-stream task to be able to use it for predictions and inference.\n"
          ]
        }
      ],
      "source": [
        "from transformers import DistilBertForSequenceClassification\n",
        "\n",
        "# Load DistilBERT model for classification with 5 labels\n",
        "model = DistilBertForSequenceClassification.from_pretrained('distilbert-base-uncased', num_labels=5)\n",
        "\n",
        "# Freeze all DistilBERT layers except the classification head\n",
        "for param in model.distilbert.parameters():\n",
        "    param.requires_grad = False\n"
      ]
    },
    {
      "cell_type": "code",
      "execution_count": 33,
      "id": "c408baf5-7f9e-4aab-8571-7cb9cba8a3f4",
      "metadata": {
        "colab": {
          "base_uri": "https://localhost:8080/",
          "height": 0
        },
        "id": "c408baf5-7f9e-4aab-8571-7cb9cba8a3f4",
        "outputId": "2f0d7430-2519-4f25-dcc4-440404b93132"
      },
      "outputs": [
        {
          "output_type": "stream",
          "name": "stderr",
          "text": [
            "/usr/local/lib/python3.10/dist-packages/transformers/training_args.py:1568: FutureWarning: `evaluation_strategy` is deprecated and will be removed in version 4.46 of 🤗 Transformers. Use `eval_strategy` instead\n",
            "  warnings.warn(\n"
          ]
        }
      ],
      "source": [
        "# Define metrics function with scalar conversion\n",
        "from sklearn.metrics import precision_recall_fscore_support\n",
        "\n",
        "def compute_metrics(pred):\n",
        "    labels = pred.label_ids\n",
        "    preds = pred.predictions.argmax(-1)\n",
        "\n",
        "    # Calculate per-class metrics\n",
        "    precision, recall, f1, _ = precision_recall_fscore_support(labels, preds, average=None)\n",
        "\n",
        "    # Print per-class metrics\n",
        "    for i in range(len(precision)):\n",
        "        print(f\"Class {i} - Precision: {precision[i]:.4f}, Recall: {recall[i]:.4f}, F1: {f1[i]:.4f}\")\n",
        "\n",
        "    # Calculate average metrics for logging\n",
        "    avg_precision = sum(precision) / len(precision)\n",
        "    avg_recall = sum(recall) / len(recall)\n",
        "    avg_f1 = sum(f1) / len(f1)\n",
        "\n",
        "    # Return average metrics for logging\n",
        "    return {\n",
        "        'precision': avg_precision,\n",
        "        'recall': avg_recall,\n",
        "        'f1': avg_f1\n",
        "    }\n",
        "\n",
        "# Set training arguments\n",
        "from transformers import TrainingArguments\n",
        "\n",
        "training_args = TrainingArguments(\n",
        "    output_dir='./results',\n",
        "    evaluation_strategy=\"epoch\",        # Evaluate model every epoch\n",
        "    save_strategy=\"epoch\",              # Save model every epoch\n",
        "    logging_strategy=\"epoch\",           # Log metrics every epoch\n",
        "    per_device_train_batch_size=16,     # Adjust batch size as needed\n",
        "    per_device_eval_batch_size=64,      # Evaluation batch size\n",
        "    num_train_epochs=30,                # Maximum number of epochs\n",
        "    save_total_limit=2,                 # Limit total saved models\n",
        "    load_best_model_at_end=True,        # Load the best model at the end of training\n",
        "    metric_for_best_model=\"eval_f1\",    # Use F1 as the evaluation metric\n",
        "    greater_is_better=True,             # Higher F1 is better\n",
        "    logging_dir='./logs',\n",
        "    learning_rate=5e-5,\n",
        "    report_to=\"none\"                    # Suppress default logging to external platforms\n",
        ")\n"
      ]
    },
    {
      "cell_type": "code",
      "execution_count": 34,
      "id": "ab2a96df-212c-415d-a5a9-da157baf3bb4",
      "metadata": {
        "id": "ab2a96df-212c-415d-a5a9-da157baf3bb4"
      },
      "outputs": [],
      "source": [
        "# Initialize and train the Trainer\n",
        "from transformers import EarlyStoppingCallback, Trainer, TrainingArguments\n",
        "from transformers import Trainer\n",
        "trainer = Trainer(\n",
        "    model=model,\n",
        "    args=training_args,\n",
        "    train_dataset=train_data,\n",
        "    eval_dataset=val_data,\n",
        "    compute_metrics=compute_metrics,\n",
        "    callbacks=[EarlyStoppingCallback(early_stopping_patience=3)])"
      ]
    },
    {
      "cell_type": "code",
      "execution_count": 35,
      "id": "aac48292-1d18-473f-90ab-e4e6441df85f",
      "metadata": {
        "colab": {
          "base_uri": "https://localhost:8080/",
          "height": 955
        },
        "id": "aac48292-1d18-473f-90ab-e4e6441df85f",
        "outputId": "ffd7a711-3431-481d-a304-13180ea2e2b9"
      },
      "outputs": [
        {
          "output_type": "display_data",
          "data": {
            "text/plain": [
              "<IPython.core.display.HTML object>"
            ],
            "text/html": [
              "\n",
              "    <div>\n",
              "      \n",
              "      <progress value='534' max='2670' style='width:300px; height:20px; vertical-align: middle;'></progress>\n",
              "      [ 534/2670 00:15 < 01:01, 34.78 it/s, Epoch 6/30]\n",
              "    </div>\n",
              "    <table border=\"1\" class=\"dataframe\">\n",
              "  <thead>\n",
              " <tr style=\"text-align: left;\">\n",
              "      <th>Epoch</th>\n",
              "      <th>Training Loss</th>\n",
              "      <th>Validation Loss</th>\n",
              "      <th>Precision</th>\n",
              "      <th>Recall</th>\n",
              "      <th>F1</th>\n",
              "    </tr>\n",
              "  </thead>\n",
              "  <tbody>\n",
              "    <tr>\n",
              "      <td>1</td>\n",
              "      <td>1.390600</td>\n",
              "      <td>1.142759</td>\n",
              "      <td>0.906817</td>\n",
              "      <td>0.849452</td>\n",
              "      <td>0.858851</td>\n",
              "    </tr>\n",
              "    <tr>\n",
              "      <td>2</td>\n",
              "      <td>0.944400</td>\n",
              "      <td>0.739522</td>\n",
              "      <td>0.944593</td>\n",
              "      <td>0.924695</td>\n",
              "      <td>0.930341</td>\n",
              "    </tr>\n",
              "    <tr>\n",
              "      <td>3</td>\n",
              "      <td>0.603300</td>\n",
              "      <td>0.473422</td>\n",
              "      <td>0.958824</td>\n",
              "      <td>0.956637</td>\n",
              "      <td>0.957588</td>\n",
              "    </tr>\n",
              "    <tr>\n",
              "      <td>4</td>\n",
              "      <td>0.405100</td>\n",
              "      <td>0.339111</td>\n",
              "      <td>0.948384</td>\n",
              "      <td>0.951479</td>\n",
              "      <td>0.949549</td>\n",
              "    </tr>\n",
              "    <tr>\n",
              "      <td>5</td>\n",
              "      <td>0.293400</td>\n",
              "      <td>0.258226</td>\n",
              "      <td>0.956863</td>\n",
              "      <td>0.954299</td>\n",
              "      <td>0.955212</td>\n",
              "    </tr>\n",
              "    <tr>\n",
              "      <td>6</td>\n",
              "      <td>0.236400</td>\n",
              "      <td>0.217510</td>\n",
              "      <td>0.949358</td>\n",
              "      <td>0.950107</td>\n",
              "      <td>0.949596</td>\n",
              "    </tr>\n",
              "  </tbody>\n",
              "</table><p>"
            ]
          },
          "metadata": {}
        },
        {
          "output_type": "stream",
          "name": "stdout",
          "text": [
            "Class 0 - Precision: 0.6864, Recall: 0.9878, F1: 0.8100\n",
            "Class 1 - Precision: 0.9787, Recall: 0.7419, F1: 0.8440\n",
            "Class 2 - Precision: 0.9841, Recall: 0.9394, F1: 0.9612\n",
            "Class 3 - Precision: 0.9111, Recall: 1.0000, F1: 0.9535\n",
            "Class 4 - Precision: 0.9737, Recall: 0.5781, F1: 0.7255\n",
            "Class 0 - Precision: 0.7980, Recall: 0.9634, F1: 0.8729\n",
            "Class 1 - Precision: 0.9833, Recall: 0.9516, F1: 0.9672\n",
            "Class 2 - Precision: 0.9538, Recall: 0.9394, F1: 0.9466\n",
            "Class 3 - Precision: 0.9878, Recall: 0.9878, F1: 0.9878\n",
            "Class 4 - Precision: 1.0000, Recall: 0.7812, F1: 0.8772\n",
            "Class 0 - Precision: 0.9167, Recall: 0.9390, F1: 0.9277\n",
            "Class 1 - Precision: 0.9677, Recall: 0.9677, F1: 0.9677\n",
            "Class 2 - Precision: 0.9545, Recall: 0.9545, F1: 0.9545\n",
            "Class 3 - Precision: 0.9880, Recall: 1.0000, F1: 0.9939\n",
            "Class 4 - Precision: 0.9672, Recall: 0.9219, F1: 0.9440\n",
            "Class 0 - Precision: 0.9342, Recall: 0.8659, F1: 0.8987\n",
            "Class 1 - Precision: 0.9683, Recall: 0.9839, F1: 0.9760\n",
            "Class 2 - Precision: 0.9130, Recall: 0.9545, F1: 0.9333\n",
            "Class 3 - Precision: 0.9880, Recall: 1.0000, F1: 0.9939\n",
            "Class 4 - Precision: 0.9385, Recall: 0.9531, F1: 0.9457\n",
            "Class 0 - Precision: 0.9048, Recall: 0.9268, F1: 0.9157\n",
            "Class 1 - Precision: 0.9683, Recall: 0.9839, F1: 0.9760\n",
            "Class 2 - Precision: 0.9403, Recall: 0.9545, F1: 0.9474\n",
            "Class 3 - Precision: 0.9880, Recall: 1.0000, F1: 0.9939\n",
            "Class 4 - Precision: 0.9831, Recall: 0.9062, F1: 0.9431\n",
            "Class 0 - Precision: 0.9125, Recall: 0.8902, F1: 0.9012\n",
            "Class 1 - Precision: 0.9683, Recall: 0.9839, F1: 0.9760\n",
            "Class 2 - Precision: 0.9265, Recall: 0.9545, F1: 0.9403\n",
            "Class 3 - Precision: 0.9880, Recall: 1.0000, F1: 0.9939\n",
            "Class 4 - Precision: 0.9516, Recall: 0.9219, F1: 0.9365\n"
          ]
        },
        {
          "output_type": "display_data",
          "data": {
            "text/plain": [
              "<IPython.core.display.HTML object>"
            ],
            "text/html": [
              "\n",
              "    <div>\n",
              "      \n",
              "      <progress value='7' max='7' style='width:300px; height:20px; vertical-align: middle;'></progress>\n",
              "      [7/7 00:00]\n",
              "    </div>\n",
              "    "
            ]
          },
          "metadata": {}
        },
        {
          "output_type": "stream",
          "name": "stdout",
          "text": [
            "Class 0 - Precision: 0.9412, Recall: 0.9412, F1: 0.9412\n",
            "Class 1 - Precision: 0.9868, Recall: 0.9740, F1: 0.9804\n",
            "Class 2 - Precision: 0.9310, Recall: 0.9643, F1: 0.9474\n",
            "Class 3 - Precision: 0.9709, Recall: 0.9804, F1: 0.9756\n",
            "Class 4 - Precision: 0.9870, Recall: 0.9500, F1: 0.9682\n",
            "Test Set Evaluation: {'eval_loss': 0.4489331543445587, 'eval_precision': 0.9633879664061535, 'eval_recall': 0.9619760631525338, 'eval_f1': 0.9625399341686421, 'eval_runtime': 0.3503, 'eval_samples_per_second': 1270.403, 'eval_steps_per_second': 19.984, 'epoch': 6.0}\n"
          ]
        }
      ],
      "source": [
        "# Train the model\n",
        "trainer.train()\n",
        "\n",
        "# Evaluate the model\n",
        "test_results = trainer.evaluate(test_data)\n",
        "print(\"Test Set Evaluation:\", test_results)\n"
      ]
    },
    {
      "cell_type": "code",
      "execution_count": 36,
      "id": "9e88f6bc-299b-4f10-9136-fcd71b20b09f",
      "metadata": {
        "id": "9e88f6bc-299b-4f10-9136-fcd71b20b09f",
        "colab": {
          "base_uri": "https://localhost:8080/",
          "height": 361
        },
        "outputId": "74dec8a2-c1ef-49c5-ef05-6d39d75a383f"
      },
      "outputs": [
        {
          "output_type": "display_data",
          "data": {
            "text/plain": [
              "<IPython.core.display.HTML object>"
            ],
            "text/html": []
          },
          "metadata": {}
        },
        {
          "output_type": "stream",
          "name": "stdout",
          "text": [
            "Class 0 - Precision: 0.9412, Recall: 0.9412, F1: 0.9412\n",
            "Class 1 - Precision: 0.9868, Recall: 0.9740, F1: 0.9804\n",
            "Class 2 - Precision: 0.9310, Recall: 0.9643, F1: 0.9474\n",
            "Class 3 - Precision: 0.9709, Recall: 0.9804, F1: 0.9756\n",
            "Class 4 - Precision: 0.9870, Recall: 0.9500, F1: 0.9682\n",
            "\n",
            "Classification Report:\n",
            "                precision    recall  f1-score   support\n",
            "\n",
            "     business       0.94      0.94      0.94       102\n",
            "entertainment       0.99      0.97      0.98        77\n",
            "     politics       0.93      0.96      0.95        84\n",
            "        sport       0.97      0.98      0.98       102\n",
            "         tech       0.99      0.95      0.97        80\n",
            "\n",
            "     accuracy                           0.96       445\n",
            "    macro avg       0.96      0.96      0.96       445\n",
            " weighted avg       0.96      0.96      0.96       445\n",
            "\n"
          ]
        }
      ],
      "source": [
        "from sklearn.metrics import classification_report, confusion_matrix\n",
        "import matplotlib.pyplot as plt\n",
        "import seaborn as sns\n",
        "\n",
        "# Generate predictions\n",
        "predictions = trainer.predict(test_data)\n",
        "pred_labels = predictions.predictions.argmax(-1)\n",
        "true_labels = predictions.label_ids\n",
        "\n",
        "# Print classification report\n",
        "class_labels = ['business', 'entertainment', 'politics', 'sport', 'tech']\n",
        "print(\"\\nClassification Report:\\n\", classification_report(true_labels, pred_labels,target_names=class_labels))\n"
      ]
    },
    {
      "cell_type": "code",
      "execution_count": 37,
      "id": "acf63ad9-95af-4523-8e1d-f9c5f4e3e287",
      "metadata": {
        "id": "acf63ad9-95af-4523-8e1d-f9c5f4e3e287",
        "colab": {
          "base_uri": "https://localhost:8080/",
          "height": 564
        },
        "outputId": "871e9b4f-2977-4615-8b3e-8edc7875ed35"
      },
      "outputs": [
        {
          "output_type": "display_data",
          "data": {
            "text/plain": [
              "<Figure size 800x600 with 2 Axes>"
            ],
            "image/png": "[encoded data removed]"
          },
          "metadata": {}
        }
      ],
      "source": [
        "def plot_confusion_matrix(true_labels, pred_labels, classes):\n",
        "    cm = confusion_matrix(true_labels, pred_labels)\n",
        "    plt.figure(figsize=(8, 6))\n",
        "    sns.heatmap(cm, annot=True, fmt='d', cmap='Blues', xticklabels=classes, yticklabels=classes)\n",
        "    plt.xlabel('Predicted Label')\n",
        "    plt.ylabel('True Label')\n",
        "    plt.title('Confusion Matrix')\n",
        "    plt.show()\n",
        "\n",
        "# Define class names based on your labels\n",
        "class_names = ['Business', 'Entertainment', 'Politics', 'Sport', 'Tech']\n",
        "plot_confusion_matrix(true_labels, pred_labels, classes=class_names)\n"
      ]
    },
    {
      "cell_type": "code",
      "execution_count": 37,
      "id": "3f2e0a87-dd83-47db-b129-9d6fbacad5c7",
      "metadata": {
        "id": "3f2e0a87-dd83-47db-b129-9d6fbacad5c7"
      },
      "outputs": [],
      "source": []
    },
    {
      "cell_type": "code",
      "source": [],
      "metadata": {
        "id": "dl6MxG9FV2My"
      },
      "id": "dl6MxG9FV2My",
      "execution_count": 37,
      "outputs": []
    },
    {
      "cell_type": "code",
      "source": [
        "import matplotlib.pyplot as plt\n",
        "\n",
        "# Initialize lists to store epoch-wise metrics\n",
        "epochs = []\n",
        "train_loss = []\n",
        "val_loss = []\n",
        "val_f1 = []\n",
        "train_f1 = []\n",
        "\n",
        "# Extract metrics from the trainer's log history\n",
        "for log in trainer.state.log_history:\n",
        "    if 'epoch' in log:\n",
        "        current_epoch = log['epoch']\n",
        "        if 'loss' in log:\n",
        "            train_loss.append(log['loss'])\n",
        "            epochs.append(current_epoch)\n",
        "        if 'eval_loss' in log:\n",
        "            val_loss.append(log['eval_loss'])\n",
        "        if 'eval_f1' in log:\n",
        "            val_f1.append(log['eval_f1'])\n",
        "\n",
        "# Align lengths by truncating to the shortest list length\n",
        "min_len = min(len(epochs), len(train_loss), len(val_loss), len(val_f1))\n",
        "epochs = epochs[:min_len]\n",
        "train_loss = train_loss[:min_len]\n",
        "val_loss = val_loss[:min_len]\n",
        "val_f1 = val_f1[:min_len]\n",
        "\n",
        "# Plot Training and Validation Loss over Epochs\n",
        "plt.figure(figsize=(10, 5))\n",
        "plt.plot(epochs, train_loss, marker='o', label=\"Training Loss\")\n",
        "plt.plot(epochs, val_loss, marker='o', color='orange', label=\"Validation Loss\")\n",
        "plt.xlabel(\"Epoch\")\n",
        "plt.ylabel(\"Loss\")\n",
        "plt.title(\"Training and Validation Loss over Epochs\")\n",
        "plt.legend()\n",
        "plt.show()\n"
      ],
      "metadata": {
        "id": "GF9iHgWuL6yd",
        "colab": {
          "base_uri": "https://localhost:8080/",
          "height": 487
        },
        "outputId": "d56c15fa-6057-48e4-ee35-6ec6bb8455d6"
      },
      "id": "GF9iHgWuL6yd",
      "execution_count": 38,
      "outputs": [
        {
          "output_type": "display_data",
          "data": {
            "text/plain": [
              "<Figure size 1000x500 with 1 Axes>"
            ],
            "image/png": "[encoded data removed]"
          },
          "metadata": {}
        }
      ]
    },
    {
      "cell_type": "code",
      "source": [
        "import pandas as pd\n",
        "import matplotlib.pyplot as plt\n",
        "import seaborn as sns\n",
        "\n",
        "# Load dataset\n",
        "data = pd.read_csv(\"bbc_text_cls.csv\")  # Replace with the correct path to your dataset\n",
        "\n",
        "# Map numeric labels to category names if needed\n",
        "label_mapping = {0: \"Business\", 1: \"Entertainment\", 2: \"Politics\", 3: \"Sport\", 4: \"Tech\"}\n",
        "data['category'] = data['labels'].replace(label_mapping)\n",
        "\n",
        "# Count categories\n",
        "label_counts = data['category'].value_counts()\n",
        "\n",
        "# Plot bar chart\n",
        "plt.figure(figsize=(10, 6))\n",
        "sns.barplot(x=label_counts.index, y=label_counts.values, palette=\"viridis\")\n",
        "plt.title(\"Distribution of Categories\", fontsize=16)\n",
        "plt.xlabel(\"Category\", fontsize=14)\n",
        "plt.ylabel(\"Count\", fontsize=14)\n",
        "plt.xticks(fontsize=12)\n",
        "plt.tight_layout()\n",
        "plt.show()\n"
      ],
      "metadata": {
        "id": "uBxuOFL-OXYp",
        "colab": {
          "base_uri": "https://localhost:8080/",
          "height": 698
        },
        "outputId": "887948cb-4dbd-4735-fb23-558b89a4ece2"
      },
      "id": "uBxuOFL-OXYp",
      "execution_count": 39,
      "outputs": [
        {
          "output_type": "stream",
          "name": "stderr",
          "text": [
            "<ipython-input-39-1d3599f17167>:17: FutureWarning: \n",
            "\n",
            "Passing `palette` without assigning `hue` is deprecated and will be removed in v0.14.0. Assign the `x` variable to `hue` and set `legend=False` for the same effect.\n",
            "\n",
            "  sns.barplot(x=label_counts.index, y=label_counts.values, palette=\"viridis\")\n"
          ]
        },
        {
          "output_type": "display_data",
          "data": {
            "text/plain": [
              "<Figure size 1000x600 with 1 Axes>"
            ],
            "image/png": "[encoded data removed]"
          },
          "metadata": {}
        }
      ]
    },
    {
      "cell_type": "code",
      "source": [],
      "metadata": {
        "id": "9j1yun48ubYb"
      },
      "id": "9j1yun48ubYb",
      "execution_count": 39,
      "outputs": []
    },
    {
      "cell_type": "code",
      "source": [
        "# Calculate text lengths\n",
        "data['text_length'] = data['text'].apply(lambda x: len(x.split()))\n",
        "\n",
        "# Plot histogram\n",
        "plt.figure(figsize=(10, 6))\n",
        "plt.hist(data['text_length'], bins=30, color='blue', alpha=0.7)\n",
        "plt.title(\"Distribution of Article Lengths (Word Count)\", fontsize=16)\n",
        "plt.xlabel(\"Word Count\", fontsize=14)\n",
        "plt.ylabel(\"Frequency\", fontsize=14)\n",
        "plt.tight_layout()\n",
        "plt.show()\n"
      ],
      "metadata": {
        "id": "CEkcoToZubbM",
        "colab": {
          "base_uri": "https://localhost:8080/",
          "height": 607
        },
        "outputId": "0d3a0870-5be6-4185-c05d-a7ee4d4b9657"
      },
      "id": "CEkcoToZubbM",
      "execution_count": 40,
      "outputs": [
        {
          "output_type": "display_data",
          "data": {
            "text/plain": [
              "<Figure size 1000x600 with 1 Axes>"
            ],
            "image/png": "[encoded data removed]"
          },
          "metadata": {}
        }
      ]
    },
    {
      "cell_type": "code",
      "source": [
        "from sklearn.model_selection import train_test_split\n",
        "\n",
        "# Split the dataset\n",
        "train_data, test_data = train_test_split(data, test_size=0.2, stratify=data['category'], random_state=42)\n",
        "train_data, val_data = train_test_split(train_data, test_size=0.2, stratify=train_data['category'], random_state=42)\n",
        "\n",
        "# Sizes for pie chart\n",
        "sizes = [len(train_data), len(val_data), len(test_data)]\n",
        "labels = [\"Train\", \"Validation\", \"Test\"]\n",
        "\n",
        "# Plot pie chart\n",
        "plt.figure(figsize=(8, 8))\n",
        "plt.pie(sizes, labels=labels, autopct='%1.1f%%', startangle=140, colors=['skyblue', 'lightgreen', 'salmon'])\n",
        "plt.title(\"Train-Validation-Test Split\", fontsize=16)\n",
        "plt.show()\n"
      ],
      "metadata": {
        "id": "j9XYk2g_ubeK",
        "colab": {
          "base_uri": "https://localhost:8080/",
          "height": 677
        },
        "outputId": "833cd20c-3e23-4a85-9776-f399dc63fe29"
      },
      "id": "j9XYk2g_ubeK",
      "execution_count": 41,
      "outputs": [
        {
          "output_type": "display_data",
          "data": {
            "text/plain": [
              "<Figure size 800x800 with 1 Axes>"
            ],
            "image/png": "[encoded data removed]"
          },
          "metadata": {}
        }
      ]
    },
    {
      "cell_type": "code",
      "source": [
        "# Calculate text lengths\n",
        "data['text_length'] = data['text'].apply(lambda x: len(x.split()))\n",
        "\n",
        "# Plot histogram with adjusted range and bins\n",
        "plt.figure(figsize=(10, 6))\n",
        "plt.hist(data['text_length'], bins=30, range=(data['text_length'].min(), data['text_length'].max()),\n",
        "         color='blue', alpha=0.7, edgecolor='black')\n",
        "plt.title(\"Distribution of Article Lengths (Word Count)\", fontsize=16)\n",
        "plt.xlabel(\"Word Count\", fontsize=14)\n",
        "plt.ylabel(\"Frequency\", fontsize=14)\n",
        "plt.xticks(fontsize=12)\n",
        "plt.yticks(fontsize=12)\n",
        "plt.tight_layout()\n",
        "plt.show()\n",
        "\n"
      ],
      "metadata": {
        "id": "S_BP8nf3ubhA",
        "colab": {
          "base_uri": "https://localhost:8080/",
          "height": 607
        },
        "outputId": "c3cda7c6-6e7b-45e7-e3cc-fc6613a88327"
      },
      "id": "S_BP8nf3ubhA",
      "execution_count": 42,
      "outputs": [
        {
          "output_type": "display_data",
          "data": {
            "text/plain": [
              "<Figure size 1000x600 with 1 Axes>"
            ],
            "image/png": "[encoded data removed]"
          },
          "metadata": {}
        }
      ]
    },
    {
      "cell_type": "code",
      "source": [
        "data.shape"
      ],
      "metadata": {
        "id": "dNrfeXeHubj0",
        "colab": {
          "base_uri": "https://localhost:8080/",
          "height": 0
        },
        "outputId": "485b3500-8816-413b-bf93-a56f375d9305"
      },
      "id": "dNrfeXeHubj0",
      "execution_count": 43,
      "outputs": [
        {
          "output_type": "execute_result",
          "data": {
            "text/plain": [
              "(2225, 4)"
            ]
          },
          "metadata": {},
          "execution_count": 43
        }
      ]
    },
    {
      "cell_type": "code",
      "source": [
        "import pandas as pd\n",
        "import matplotlib.pyplot as plt\n",
        "import seaborn as sns\n",
        "\n",
        "# Load dataset\n",
        "data = pd.read_csv(\"bbc_text_cls.csv\")  # Replace with the correct path to your dataset\n",
        "\n",
        "# Map numeric labels to category names if needed\n",
        "label_mapping = {0: \"Business\", 1: \"Entertainment\", 2: \"Politics\", 3: \"Sport\", 4: \"Tech\"}\n",
        "data['category'] = data['labels'].replace(label_mapping)\n",
        "\n",
        "# Count categories\n",
        "label_counts = data['category'].value_counts()\n",
        "\n",
        "# Define medium-tone colors for each category\n",
        "colors = [\"#E57373\", \"#FBC02D\", \"#64B5F6\", \"#81C784\", \"#BA68C8\"]  # Softer shades\n",
        "\n",
        "# Plot bar chart\n",
        "plt.figure(figsize=(10, 6))\n",
        "bars = sns.barplot(x=label_counts.index, y=label_counts.values, palette=colors)\n",
        "plt.title(\"Distribution of Categories\", fontsize=16)\n",
        "plt.xlabel(\"Category\", fontsize=14)\n",
        "plt.ylabel(\"Count\", fontsize=14)\n",
        "plt.xticks(fontsize=12)\n",
        "\n",
        "# Add labels above each bar\n",
        "for bar in bars.patches:\n",
        "    bar_height = bar.get_height()\n",
        "    bars.annotate(f\"{int(bar_height)}\",\n",
        "                  (bar.get_x() + bar.get_width() / 2, bar_height),\n",
        "                  ha='center', va='bottom', fontsize=12, color='black')\n",
        "\n",
        "plt.tight_layout()\n",
        "plt.show()\n"
      ],
      "metadata": {
        "id": "mQeS514kubpn",
        "colab": {
          "base_uri": "https://localhost:8080/",
          "height": 698
        },
        "outputId": "f89fdc05-5b19-4ec3-96d8-57045864ed82"
      },
      "id": "mQeS514kubpn",
      "execution_count": 44,
      "outputs": [
        {
          "output_type": "stream",
          "name": "stderr",
          "text": [
            "<ipython-input-44-07e54f3a2887>:20: FutureWarning: \n",
            "\n",
            "Passing `palette` without assigning `hue` is deprecated and will be removed in v0.14.0. Assign the `x` variable to `hue` and set `legend=False` for the same effect.\n",
            "\n",
            "  bars = sns.barplot(x=label_counts.index, y=label_counts.values, palette=colors)\n"
          ]
        },
        {
          "output_type": "display_data",
          "data": {
            "text/plain": [
              "<Figure size 1000x600 with 1 Axes>"
            ],
            "image/png": "[encoded data removed]"
          },
          "metadata": {}
        }
      ]
    },
    {
      "cell_type": "code",
      "source": [
        "# Calculate text lengths\n",
        "data['text_length'] = data['text'].apply(lambda x: len(x.split()))\n",
        "\n",
        "# Calculate statistics\n",
        "mean_length = data['text_length'].mean()\n",
        "median_length = data['text_length'].median()\n",
        "\n",
        "# Plot histogram\n",
        "plt.figure(figsize=(12, 6))\n",
        "plt.hist(data['text_length'], bins=30, color='skyblue', alpha=0.7, edgecolor='black')\n",
        "plt.axvline(mean_length, color='red', linestyle='--', label=f'Mean: {mean_length:.2f}')\n",
        "plt.axvline(median_length, color='green', linestyle='-', label=f'Median: {median_length:.0f}')\n",
        "\n",
        "# Add gridlines\n",
        "plt.grid(axis='y', linestyle='--', alpha=0.7)\n",
        "\n",
        "# Add title and labels\n",
        "plt.title(\"Distribution of Article Lengths (Word Count)\", fontsize=18, fontweight='bold')\n",
        "plt.xlabel(\"Word Count\", fontsize=14)\n",
        "plt.ylabel(\"Frequency\", fontsize=14)\n",
        "\n",
        "# Add legend\n",
        "plt.legend(fontsize=12)\n",
        "\n",
        "# Customize ticks\n",
        "plt.xticks(fontsize=12)\n",
        "plt.yticks(fontsize=12)\n",
        "\n",
        "# Adjust layout\n",
        "plt.tight_layout()\n",
        "plt.show()\n"
      ],
      "metadata": {
        "id": "GijE4qmFubs0",
        "colab": {
          "base_uri": "https://localhost:8080/",
          "height": 607
        },
        "outputId": "be186ea6-0416-4458-d28c-8d5022d6837c"
      },
      "id": "GijE4qmFubs0",
      "execution_count": 45,
      "outputs": [
        {
          "output_type": "display_data",
          "data": {
            "text/plain": [
              "<Figure size 1200x600 with 1 Axes>"
            ],
            "image/png": "[encoded data removed]"
          },
          "metadata": {}
        }
      ]
    },
    {
      "cell_type": "code",
      "source": [],
      "metadata": {
        "id": "OTT4rXNgubvj"
      },
      "id": "OTT4rXNgubvj",
      "execution_count": 45,
      "outputs": []
    },
    {
      "cell_type": "code",
      "source": [],
      "metadata": {
        "id": "sS9Gwn6Wuby9"
      },
      "id": "sS9Gwn6Wuby9",
      "execution_count": 45,
      "outputs": []
    },
    {
      "cell_type": "code",
      "execution_count": 46,
      "id": "48cf4ce5-ad3e-4497-ad2f-b613c6fdf140",
      "metadata": {
        "id": "48cf4ce5-ad3e-4497-ad2f-b613c6fdf140",
        "colab": {
          "base_uri": "https://localhost:8080/",
          "height": 0
        },
        "outputId": "3ce4157e-7123-412b-b633-46d5f3d46a4b"
      },
      "outputs": [
        {
          "output_type": "stream",
          "name": "stdout",
          "text": [
            "distilbert.embeddings.word_embeddings.weight: requires_grad = False\n",
            "distilbert.embeddings.position_embeddings.weight: requires_grad = False\n",
            "distilbert.embeddings.LayerNorm.weight: requires_grad = False\n",
            "distilbert.embeddings.LayerNorm.bias: requires_grad = False\n",
            "distilbert.transformer.layer.0.attention.q_lin.weight: requires_grad = False\n",
            "distilbert.transformer.layer.0.attention.q_lin.bias: requires_grad = False\n",
            "distilbert.transformer.layer.0.attention.k_lin.weight: requires_grad = False\n",
            "distilbert.transformer.layer.0.attention.k_lin.bias: requires_grad = False\n",
            "distilbert.transformer.layer.0.attention.v_lin.weight: requires_grad = False\n",
            "distilbert.transformer.layer.0.attention.v_lin.bias: requires_grad = False\n",
            "distilbert.transformer.layer.0.attention.out_lin.weight: requires_grad = False\n",
            "distilbert.transformer.layer.0.attention.out_lin.bias: requires_grad = False\n",
            "distilbert.transformer.layer.0.sa_layer_norm.weight: requires_grad = False\n",
            "distilbert.transformer.layer.0.sa_layer_norm.bias: requires_grad = False\n",
            "distilbert.transformer.layer.0.ffn.lin1.weight: requires_grad = False\n",
            "distilbert.transformer.layer.0.ffn.lin1.bias: requires_grad = False\n",
            "distilbert.transformer.layer.0.ffn.lin2.weight: requires_grad = False\n",
            "distilbert.transformer.layer.0.ffn.lin2.bias: requires_grad = False\n",
            "distilbert.transformer.layer.0.output_layer_norm.weight: requires_grad = False\n",
            "distilbert.transformer.layer.0.output_layer_norm.bias: requires_grad = False\n",
            "distilbert.transformer.layer.1.attention.q_lin.weight: requires_grad = False\n",
            "distilbert.transformer.layer.1.attention.q_lin.bias: requires_grad = False\n",
            "distilbert.transformer.layer.1.attention.k_lin.weight: requires_grad = False\n",
            "distilbert.transformer.layer.1.attention.k_lin.bias: requires_grad = False\n",
            "distilbert.transformer.layer.1.attention.v_lin.weight: requires_grad = False\n",
            "distilbert.transformer.layer.1.attention.v_lin.bias: requires_grad = False\n",
            "distilbert.transformer.layer.1.attention.out_lin.weight: requires_grad = False\n",
            "distilbert.transformer.layer.1.attention.out_lin.bias: requires_grad = False\n",
            "distilbert.transformer.layer.1.sa_layer_norm.weight: requires_grad = False\n",
            "distilbert.transformer.layer.1.sa_layer_norm.bias: requires_grad = False\n",
            "distilbert.transformer.layer.1.ffn.lin1.weight: requires_grad = False\n",
            "distilbert.transformer.layer.1.ffn.lin1.bias: requires_grad = False\n",
            "distilbert.transformer.layer.1.ffn.lin2.weight: requires_grad = False\n",
            "distilbert.transformer.layer.1.ffn.lin2.bias: requires_grad = False\n",
            "distilbert.transformer.layer.1.output_layer_norm.weight: requires_grad = False\n",
            "distilbert.transformer.layer.1.output_layer_norm.bias: requires_grad = False\n",
            "distilbert.transformer.layer.2.attention.q_lin.weight: requires_grad = False\n",
            "distilbert.transformer.layer.2.attention.q_lin.bias: requires_grad = False\n",
            "distilbert.transformer.layer.2.attention.k_lin.weight: requires_grad = False\n",
            "distilbert.transformer.layer.2.attention.k_lin.bias: requires_grad = False\n",
            "distilbert.transformer.layer.2.attention.v_lin.weight: requires_grad = False\n",
            "distilbert.transformer.layer.2.attention.v_lin.bias: requires_grad = False\n",
            "distilbert.transformer.layer.2.attention.out_lin.weight: requires_grad = False\n",
            "distilbert.transformer.layer.2.attention.out_lin.bias: requires_grad = False\n",
            "distilbert.transformer.layer.2.sa_layer_norm.weight: requires_grad = False\n",
            "distilbert.transformer.layer.2.sa_layer_norm.bias: requires_grad = False\n",
            "distilbert.transformer.layer.2.ffn.lin1.weight: requires_grad = False\n",
            "distilbert.transformer.layer.2.ffn.lin1.bias: requires_grad = False\n",
            "distilbert.transformer.layer.2.ffn.lin2.weight: requires_grad = False\n",
            "distilbert.transformer.layer.2.ffn.lin2.bias: requires_grad = False\n",
            "distilbert.transformer.layer.2.output_layer_norm.weight: requires_grad = False\n",
            "distilbert.transformer.layer.2.output_layer_norm.bias: requires_grad = False\n",
            "distilbert.transformer.layer.3.attention.q_lin.weight: requires_grad = False\n",
            "distilbert.transformer.layer.3.attention.q_lin.bias: requires_grad = False\n",
            "distilbert.transformer.layer.3.attention.k_lin.weight: requires_grad = False\n",
            "distilbert.transformer.layer.3.attention.k_lin.bias: requires_grad = False\n",
            "distilbert.transformer.layer.3.attention.v_lin.weight: requires_grad = False\n",
            "distilbert.transformer.layer.3.attention.v_lin.bias: requires_grad = False\n",
            "distilbert.transformer.layer.3.attention.out_lin.weight: requires_grad = False\n",
            "distilbert.transformer.layer.3.attention.out_lin.bias: requires_grad = False\n",
            "distilbert.transformer.layer.3.sa_layer_norm.weight: requires_grad = False\n",
            "distilbert.transformer.layer.3.sa_layer_norm.bias: requires_grad = False\n",
            "distilbert.transformer.layer.3.ffn.lin1.weight: requires_grad = False\n",
            "distilbert.transformer.layer.3.ffn.lin1.bias: requires_grad = False\n",
            "distilbert.transformer.layer.3.ffn.lin2.weight: requires_grad = False\n",
            "distilbert.transformer.layer.3.ffn.lin2.bias: requires_grad = False\n",
            "distilbert.transformer.layer.3.output_layer_norm.weight: requires_grad = False\n",
            "distilbert.transformer.layer.3.output_layer_norm.bias: requires_grad = False\n",
            "distilbert.transformer.layer.4.attention.q_lin.weight: requires_grad = False\n",
            "distilbert.transformer.layer.4.attention.q_lin.bias: requires_grad = False\n",
            "distilbert.transformer.layer.4.attention.k_lin.weight: requires_grad = False\n",
            "distilbert.transformer.layer.4.attention.k_lin.bias: requires_grad = False\n",
            "distilbert.transformer.layer.4.attention.v_lin.weight: requires_grad = False\n",
            "distilbert.transformer.layer.4.attention.v_lin.bias: requires_grad = False\n",
            "distilbert.transformer.layer.4.attention.out_lin.weight: requires_grad = False\n",
            "distilbert.transformer.layer.4.attention.out_lin.bias: requires_grad = False\n",
            "distilbert.transformer.layer.4.sa_layer_norm.weight: requires_grad = False\n",
            "distilbert.transformer.layer.4.sa_layer_norm.bias: requires_grad = False\n",
            "distilbert.transformer.layer.4.ffn.lin1.weight: requires_grad = False\n",
            "distilbert.transformer.layer.4.ffn.lin1.bias: requires_grad = False\n",
            "distilbert.transformer.layer.4.ffn.lin2.weight: requires_grad = False\n",
            "distilbert.transformer.layer.4.ffn.lin2.bias: requires_grad = False\n",
            "distilbert.transformer.layer.4.output_layer_norm.weight: requires_grad = False\n",
            "distilbert.transformer.layer.4.output_layer_norm.bias: requires_grad = False\n",
            "distilbert.transformer.layer.5.attention.q_lin.weight: requires_grad = False\n",
            "distilbert.transformer.layer.5.attention.q_lin.bias: requires_grad = False\n",
            "distilbert.transformer.layer.5.attention.k_lin.weight: requires_grad = False\n",
            "distilbert.transformer.layer.5.attention.k_lin.bias: requires_grad = False\n",
            "distilbert.transformer.layer.5.attention.v_lin.weight: requires_grad = False\n",
            "distilbert.transformer.layer.5.attention.v_lin.bias: requires_grad = False\n",
            "distilbert.transformer.layer.5.attention.out_lin.weight: requires_grad = False\n",
            "distilbert.transformer.layer.5.attention.out_lin.bias: requires_grad = False\n",
            "distilbert.transformer.layer.5.sa_layer_norm.weight: requires_grad = False\n",
            "distilbert.transformer.layer.5.sa_layer_norm.bias: requires_grad = False\n",
            "distilbert.transformer.layer.5.ffn.lin1.weight: requires_grad = False\n",
            "distilbert.transformer.layer.5.ffn.lin1.bias: requires_grad = False\n",
            "distilbert.transformer.layer.5.ffn.lin2.weight: requires_grad = False\n",
            "distilbert.transformer.layer.5.ffn.lin2.bias: requires_grad = False\n",
            "distilbert.transformer.layer.5.output_layer_norm.weight: requires_grad = False\n",
            "distilbert.transformer.layer.5.output_layer_norm.bias: requires_grad = False\n",
            "pre_classifier.weight: requires_grad = True\n",
            "pre_classifier.bias: requires_grad = True\n",
            "classifier.weight: requires_grad = True\n",
            "classifier.bias: requires_grad = True\n"
          ]
        }
      ],
      "source": [
        "\n",
        "# Confirm which parameters are trainable\n",
        "for name, param in model.named_parameters():\n",
        "    print(f\"{name}: requires_grad = {param.requires_grad}\")\n"
      ]
    },
    {
      "cell_type": "code",
      "execution_count": 46,
      "id": "5f0285ed-a7fc-4ebb-abf7-a562c5725010",
      "metadata": {
        "id": "5f0285ed-a7fc-4ebb-abf7-a562c5725010"
      },
      "outputs": [],
      "source": []
    }
  ],
  "metadata": {
    "kernelspec": {
      "display_name": "Python 3",
      "name": "python3"
    },
    "language_info": {
      "codemirror_mode": {
        "name": "ipython",
        "version": 3
      },
      "file_extension": ".py",
      "mimetype": "text/x-python",
      "name": "python",
      "nbconvert_exporter": "python",
      "pygments_lexer": "ipython3",
      "version": "3.12.7"
    },
    "colab": {
      "provenance": [],
      "machine_shape": "hm"
    },
    "widgets": {
      "application/vnd.jupyter.widget-state+json": {
        "4416a555c0224673bb52f492a80090e7": {
          "model_module": "@jupyter-widgets/controls",
          "model_name": "HBoxModel",
          "model_module_version": "1.5.0",
          "state": {
            "_dom_classes": [],
            "_model_module": "@jupyter-widgets/controls",
            "_model_module_version": "1.5.0",
            "_model_name": "HBoxModel",
            "_view_count": null,
            "_view_module": "@jupyter-widgets/controls",
            "_view_module_version": "1.5.0",
            "_view_name": "HBoxView",
            "box_style": "",
            "children": [
              "IPY_MODEL_8e7175782e674155b97dc2e0034a1535",
              "IPY_MODEL_a40cfe1a4e4c45e7aafbf33ce215e83c",
              "IPY_MODEL_ab70dfbbee2441d18df33180277ecf66"
            ],
            "layout": "IPY_MODEL_5ae32593307548e1bd8164e75c0b9e69"
          }
        },
        "8e7175782e674155b97dc2e0034a1535": {
          "model_module": "@jupyter-widgets/controls",
          "model_name": "HTMLModel",
          "model_module_version": "1.5.0",
          "state": {
            "_dom_classes": [],
            "_model_module": "@jupyter-widgets/controls",
            "_model_module_version": "1.5.0",
            "_model_name": "HTMLModel",
            "_view_count": null,
            "_view_module": "@jupyter-widgets/controls",
            "_view_module_version": "1.5.0",
            "_view_name": "HTMLView",
            "description": "",
            "description_tooltip": null,
            "layout": "IPY_MODEL_01aad0cf073f4f3487fa89b580441f68",
            "placeholder": "​",
            "style": "IPY_MODEL_a7a2ce57228e439e9859a98f0701f448",
            "value": "Map: 100%"
          }
        },
        "a40cfe1a4e4c45e7aafbf33ce215e83c": {
          "model_module": "@jupyter-widgets/controls",
          "model_name": "FloatProgressModel",
          "model_module_version": "1.5.0",
          "state": {
            "_dom_classes": [],
            "_model_module": "@jupyter-widgets/controls",
            "_model_module_version": "1.5.0",
            "_model_name": "FloatProgressModel",
            "_view_count": null,
            "_view_module": "@jupyter-widgets/controls",
            "_view_module_version": "1.5.0",
            "_view_name": "ProgressView",
            "bar_style": "success",
            "description": "",
            "description_tooltip": null,
            "layout": "IPY_MODEL_280fafd694d345169684afe97133e39a",
            "max": 1424,
            "min": 0,
            "orientation": "horizontal",
            "style": "IPY_MODEL_d26e1d1e93b442d5ad65224aa4f0f984",
            "value": 1424
          }
        },
        "ab70dfbbee2441d18df33180277ecf66": {
          "model_module": "@jupyter-widgets/controls",
          "model_name": "HTMLModel",
          "model_module_version": "1.5.0",
          "state": {
            "_dom_classes": [],
            "_model_module": "@jupyter-widgets/controls",
            "_model_module_version": "1.5.0",
            "_model_name": "HTMLModel",
            "_view_count": null,
            "_view_module": "@jupyter-widgets/controls",
            "_view_module_version": "1.5.0",
            "_view_name": "HTMLView",
            "description": "",
            "description_tooltip": null,
            "layout": "IPY_MODEL_e64ec7a9aac448d984469072664e0998",
            "placeholder": "​",
            "style": "IPY_MODEL_9cbc0745a1bc491d901e288895b045c0",
            "value": " 1424/1424 [00:12&lt;00:00, 116.42 examples/s]"
          }
        },
        "5ae32593307548e1bd8164e75c0b9e69": {
          "model_module": "@jupyter-widgets/base",
          "model_name": "LayoutModel",
          "model_module_version": "1.2.0",
          "state": {
            "_model_module": "@jupyter-widgets/base",
            "_model_module_version": "1.2.0",
            "_model_name": "LayoutModel",
            "_view_count": null,
            "_view_module": "@jupyter-widgets/base",
            "_view_module_version": "1.2.0",
            "_view_name": "LayoutView",
            "align_content": null,
            "align_items": null,
            "align_self": null,
            "border": null,
            "bottom": null,
            "display": null,
            "flex": null,
            "flex_flow": null,
            "grid_area": null,
            "grid_auto_columns": null,
            "grid_auto_flow": null,
            "grid_auto_rows": null,
            "grid_column": null,
            "grid_gap": null,
            "grid_row": null,
            "grid_template_areas": null,
            "grid_template_columns": null,
            "grid_template_rows": null,
            "height": null,
            "justify_content": null,
            "justify_items": null,
            "left": null,
            "margin": null,
            "max_height": null,
            "max_width": null,
            "min_height": null,
            "min_width": null,
            "object_fit": null,
            "object_position": null,
            "order": null,
            "overflow": null,
            "overflow_x": null,
            "overflow_y": null,
            "padding": null,
            "right": null,
            "top": null,
            "visibility": null,
            "width": null
          }
        },
        "01aad0cf073f4f3487fa89b580441f68": {
          "model_module": "@jupyter-widgets/base",
          "model_name": "LayoutModel",
          "model_module_version": "1.2.0",
          "state": {
            "_model_module": "@jupyter-widgets/base",
            "_model_module_version": "1.2.0",
            "_model_name": "LayoutModel",
            "_view_count": null,
            "_view_module": "@jupyter-widgets/base",
            "_view_module_version": "1.2.0",
            "_view_name": "LayoutView",
            "align_content": null,
            "align_items": null,
            "align_self": null,
            "border": null,
            "bottom": null,
            "display": null,
            "flex": null,
            "flex_flow": null,
            "grid_area": null,
            "grid_auto_columns": null,
            "grid_auto_flow": null,
            "grid_auto_rows": null,
            "grid_column": null,
            "grid_gap": null,
            "grid_row": null,
            "grid_template_areas": null,
            "grid_template_columns": null,
            "grid_template_rows": null,
            "height": null,
            "justify_content": null,
            "justify_items": null,
            "left": null,
            "margin": null,
            "max_height": null,
            "max_width": null,
            "min_height": null,
            "min_width": null,
            "object_fit": null,
            "object_position": null,
            "order": null,
            "overflow": null,
            "overflow_x": null,
            "overflow_y": null,
            "padding": null,
            "right": null,
            "top": null,
            "visibility": null,
            "width": null
          }
        },
        "a7a2ce57228e439e9859a98f0701f448": {
          "model_module": "@jupyter-widgets/controls",
          "model_name": "DescriptionStyleModel",
          "model_module_version": "1.5.0",
          "state": {
            "_model_module": "@jupyter-widgets/controls",
            "_model_module_version": "1.5.0",
            "_model_name": "DescriptionStyleModel",
            "_view_count": null,
            "_view_module": "@jupyter-widgets/base",
            "_view_module_version": "1.2.0",
            "_view_name": "StyleView",
            "description_width": ""
          }
        },
        "280fafd694d345169684afe97133e39a": {
          "model_module": "@jupyter-widgets/base",
          "model_name": "LayoutModel",
          "model_module_version": "1.2.0",
          "state": {
            "_model_module": "@jupyter-widgets/base",
            "_model_module_version": "1.2.0",
            "_model_name": "LayoutModel",
            "_view_count": null,
            "_view_module": "@jupyter-widgets/base",
            "_view_module_version": "1.2.0",
            "_view_name": "LayoutView",
            "align_content": null,
            "align_items": null,
            "align_self": null,
            "border": null,
            "bottom": null,
            "display": null,
            "flex": null,
            "flex_flow": null,
            "grid_area": null,
            "grid_auto_columns": null,
            "grid_auto_flow": null,
            "grid_auto_rows": null,
            "grid_column": null,
            "grid_gap": null,
            "grid_row": null,
            "grid_template_areas": null,
            "grid_template_columns": null,
            "grid_template_rows": null,
            "height": null,
            "justify_content": null,
            "justify_items": null,
            "left": null,
            "margin": null,
            "max_height": null,
            "max_width": null,
            "min_height": null,
            "min_width": null,
            "object_fit": null,
            "object_position": null,
            "order": null,
            "overflow": null,
            "overflow_x": null,
            "overflow_y": null,
            "padding": null,
            "right": null,
            "top": null,
            "visibility": null,
            "width": null
          }
        },
        "d26e1d1e93b442d5ad65224aa4f0f984": {
          "model_module": "@jupyter-widgets/controls",
          "model_name": "ProgressStyleModel",
          "model_module_version": "1.5.0",
          "state": {
            "_model_module": "@jupyter-widgets/controls",
            "_model_module_version": "1.5.0",
            "_model_name": "ProgressStyleModel",
            "_view_count": null,
            "_view_module": "@jupyter-widgets/base",
            "_view_module_version": "1.2.0",
            "_view_name": "StyleView",
            "bar_color": null,
            "description_width": ""
          }
        },
        "e64ec7a9aac448d984469072664e0998": {
          "model_module": "@jupyter-widgets/base",
          "model_name": "LayoutModel",
          "model_module_version": "1.2.0",
          "state": {
            "_model_module": "@jupyter-widgets/base",
            "_model_module_version": "1.2.0",
            "_model_name": "LayoutModel",
            "_view_count": null,
            "_view_module": "@jupyter-widgets/base",
            "_view_module_version": "1.2.0",
            "_view_name": "LayoutView",
            "align_content": null,
            "align_items": null,
            "align_self": null,
            "border": null,
            "bottom": null,
            "display": null,
            "flex": null,
            "flex_flow": null,
            "grid_area": null,
            "grid_auto_columns": null,
            "grid_auto_flow": null,
            "grid_auto_rows": null,
            "grid_column": null,
            "grid_gap": null,
            "grid_row": null,
            "grid_template_areas": null,
            "grid_template_columns": null,
            "grid_template_rows": null,
            "height": null,
            "justify_content": null,
            "justify_items": null,
            "left": null,
            "margin": null,
            "max_height": null,
            "max_width": null,
            "min_height": null,
            "min_width": null,
            "object_fit": null,
            "object_position": null,
            "order": null,
            "overflow": null,
            "overflow_x": null,
            "overflow_y": null,
            "padding": null,
            "right": null,
            "top": null,
            "visibility": null,
            "width": null
          }
        },
        "9cbc0745a1bc491d901e288895b045c0": {
          "model_module": "@jupyter-widgets/controls",
          "model_name": "DescriptionStyleModel",
          "model_module_version": "1.5.0",
          "state": {
            "_model_module": "@jupyter-widgets/controls",
            "_model_module_version": "1.5.0",
            "_model_name": "DescriptionStyleModel",
            "_view_count": null,
            "_view_module": "@jupyter-widgets/base",
            "_view_module_version": "1.2.0",
            "_view_name": "StyleView",
            "description_width": ""
          }
        },
        "2d5569453bc04e7fadb407abc2fd088d": {
          "model_module": "@jupyter-widgets/controls",
          "model_name": "HBoxModel",
          "model_module_version": "1.5.0",
          "state": {
            "_dom_classes": [],
            "_model_module": "@jupyter-widgets/controls",
            "_model_module_version": "1.5.0",
            "_model_name": "HBoxModel",
            "_view_count": null,
            "_view_module": "@jupyter-widgets/controls",
            "_view_module_version": "1.5.0",
            "_view_name": "HBoxView",
            "box_style": "",
            "children": [
              "IPY_MODEL_2fa2449a927c4b71b40e06aa24094780",
              "IPY_MODEL_31d8fc43499348948eff025bffe19528",
              "IPY_MODEL_41d3ea2570594609ab45f6fd86016d41"
            ],
            "layout": "IPY_MODEL_b2072c60a26b4f3f8868f66169286f27"
          }
        },
        "2fa2449a927c4b71b40e06aa24094780": {
          "model_module": "@jupyter-widgets/controls",
          "model_name": "HTMLModel",
          "model_module_version": "1.5.0",
          "state": {
            "_dom_classes": [],
            "_model_module": "@jupyter-widgets/controls",
            "_model_module_version": "1.5.0",
            "_model_name": "HTMLModel",
            "_view_count": null,
            "_view_module": "@jupyter-widgets/controls",
            "_view_module_version": "1.5.0",
            "_view_name": "HTMLView",
            "description": "",
            "description_tooltip": null,
            "layout": "IPY_MODEL_3b83527e686444958e86e0799f53ed74",
            "placeholder": "​",
            "style": "IPY_MODEL_6d1db6ff330e4cde97a92479fe7f9653",
            "value": "Map: 100%"
          }
        },
        "31d8fc43499348948eff025bffe19528": {
          "model_module": "@jupyter-widgets/controls",
          "model_name": "FloatProgressModel",
          "model_module_version": "1.5.0",
          "state": {
            "_dom_classes": [],
            "_model_module": "@jupyter-widgets/controls",
            "_model_module_version": "1.5.0",
            "_model_name": "FloatProgressModel",
            "_view_count": null,
            "_view_module": "@jupyter-widgets/controls",
            "_view_module_version": "1.5.0",
            "_view_name": "ProgressView",
            "bar_style": "success",
            "description": "",
            "description_tooltip": null,
            "layout": "IPY_MODEL_fcb079cfe2064e8d89f4fc0d0b01c5ac",
            "max": 356,
            "min": 0,
            "orientation": "horizontal",
            "style": "IPY_MODEL_c4ec24d1047a419097c559930da60280",
            "value": 356
          }
        },
        "41d3ea2570594609ab45f6fd86016d41": {
          "model_module": "@jupyter-widgets/controls",
          "model_name": "HTMLModel",
          "model_module_version": "1.5.0",
          "state": {
            "_dom_classes": [],
            "_model_module": "@jupyter-widgets/controls",
            "_model_module_version": "1.5.0",
            "_model_name": "HTMLModel",
            "_view_count": null,
            "_view_module": "@jupyter-widgets/controls",
            "_view_module_version": "1.5.0",
            "_view_name": "HTMLView",
            "description": "",
            "description_tooltip": null,
            "layout": "IPY_MODEL_0eba80021ab44336a0d7202302807c6a",
            "placeholder": "​",
            "style": "IPY_MODEL_cbc289c0627b47d79febfd3135d1b2ff",
            "value": " 356/356 [00:03&lt;00:00, 114.53 examples/s]"
          }
        },
        "b2072c60a26b4f3f8868f66169286f27": {
          "model_module": "@jupyter-widgets/base",
          "model_name": "LayoutModel",
          "model_module_version": "1.2.0",
          "state": {
            "_model_module": "@jupyter-widgets/base",
            "_model_module_version": "1.2.0",
            "_model_name": "LayoutModel",
            "_view_count": null,
            "_view_module": "@jupyter-widgets/base",
            "_view_module_version": "1.2.0",
            "_view_name": "LayoutView",
            "align_content": null,
            "align_items": null,
            "align_self": null,
            "border": null,
            "bottom": null,
            "display": null,
            "flex": null,
            "flex_flow": null,
            "grid_area": null,
            "grid_auto_columns": null,
            "grid_auto_flow": null,
            "grid_auto_rows": null,
            "grid_column": null,
            "grid_gap": null,
            "grid_row": null,
            "grid_template_areas": null,
            "grid_template_columns": null,
            "grid_template_rows": null,
            "height": null,
            "justify_content": null,
            "justify_items": null,
            "left": null,
            "margin": null,
            "max_height": null,
            "max_width": null,
            "min_height": null,
            "min_width": null,
            "object_fit": null,
            "object_position": null,
            "order": null,
            "overflow": null,
            "overflow_x": null,
            "overflow_y": null,
            "padding": null,
            "right": null,
            "top": null,
            "visibility": null,
            "width": null
          }
        },
        "3b83527e686444958e86e0799f53ed74": {
          "model_module": "@jupyter-widgets/base",
          "model_name": "LayoutModel",
          "model_module_version": "1.2.0",
          "state": {
            "_model_module": "@jupyter-widgets/base",
            "_model_module_version": "1.2.0",
            "_model_name": "LayoutModel",
            "_view_count": null,
            "_view_module": "@jupyter-widgets/base",
            "_view_module_version": "1.2.0",
            "_view_name": "LayoutView",
            "align_content": null,
            "align_items": null,
            "align_self": null,
            "border": null,
            "bottom": null,
            "display": null,
            "flex": null,
            "flex_flow": null,
            "grid_area": null,
            "grid_auto_columns": null,
            "grid_auto_flow": null,
            "grid_auto_rows": null,
            "grid_column": null,
            "grid_gap": null,
            "grid_row": null,
            "grid_template_areas": null,
            "grid_template_columns": null,
            "grid_template_rows": null,
            "height": null,
            "justify_content": null,
            "justify_items": null,
            "left": null,
            "margin": null,
            "max_height": null,
            "max_width": null,
            "min_height": null,
            "min_width": null,
            "object_fit": null,
            "object_position": null,
            "order": null,
            "overflow": null,
            "overflow_x": null,
            "overflow_y": null,
            "padding": null,
            "right": null,
            "top": null,
            "visibility": null,
            "width": null
          }
        },
        "6d1db6ff330e4cde97a92479fe7f9653": {
          "model_module": "@jupyter-widgets/controls",
          "model_name": "DescriptionStyleModel",
          "model_module_version": "1.5.0",
          "state": {
            "_model_module": "@jupyter-widgets/controls",
            "_model_module_version": "1.5.0",
            "_model_name": "DescriptionStyleModel",
            "_view_count": null,
            "_view_module": "@jupyter-widgets/base",
            "_view_module_version": "1.2.0",
            "_view_name": "StyleView",
            "description_width": ""
          }
        },
        "fcb079cfe2064e8d89f4fc0d0b01c5ac": {
          "model_module": "@jupyter-widgets/base",
          "model_name": "LayoutModel",
          "model_module_version": "1.2.0",
          "state": {
            "_model_module": "@jupyter-widgets/base",
            "_model_module_version": "1.2.0",
            "_model_name": "LayoutModel",
            "_view_count": null,
            "_view_module": "@jupyter-widgets/base",
            "_view_module_version": "1.2.0",
            "_view_name": "LayoutView",
            "align_content": null,
            "align_items": null,
            "align_self": null,
            "border": null,
            "bottom": null,
            "display": null,
            "flex": null,
            "flex_flow": null,
            "grid_area": null,
            "grid_auto_columns": null,
            "grid_auto_flow": null,
            "grid_auto_rows": null,
            "grid_column": null,
            "grid_gap": null,
            "grid_row": null,
            "grid_template_areas": null,
            "grid_template_columns": null,
            "grid_template_rows": null,
            "height": null,
            "justify_content": null,
            "justify_items": null,
            "left": null,
            "margin": null,
            "max_height": null,
            "max_width": null,
            "min_height": null,
            "min_width": null,
            "object_fit": null,
            "object_position": null,
            "order": null,
            "overflow": null,
            "overflow_x": null,
            "overflow_y": null,
            "padding": null,
            "right": null,
            "top": null,
            "visibility": null,
            "width": null
          }
        },
        "c4ec24d1047a419097c559930da60280": {
          "model_module": "@jupyter-widgets/controls",
          "model_name": "ProgressStyleModel",
          "model_module_version": "1.5.0",
          "state": {
            "_model_module": "@jupyter-widgets/controls",
            "_model_module_version": "1.5.0",
            "_model_name": "ProgressStyleModel",
            "_view_count": null,
            "_view_module": "@jupyter-widgets/base",
            "_view_module_version": "1.2.0",
            "_view_name": "StyleView",
            "bar_color": null,
            "description_width": ""
          }
        },
        "0eba80021ab44336a0d7202302807c6a": {
          "model_module": "@jupyter-widgets/base",
          "model_name": "LayoutModel",
          "model_module_version": "1.2.0",
          "state": {
            "_model_module": "@jupyter-widgets/base",
            "_model_module_version": "1.2.0",
            "_model_name": "LayoutModel",
            "_view_count": null,
            "_view_module": "@jupyter-widgets/base",
            "_view_module_version": "1.2.0",
            "_view_name": "LayoutView",
            "align_content": null,
            "align_items": null,
            "align_self": null,
            "border": null,
            "bottom": null,
            "display": null,
            "flex": null,
            "flex_flow": null,
            "grid_area": null,
            "grid_auto_columns": null,
            "grid_auto_flow": null,
            "grid_auto_rows": null,
            "grid_column": null,
            "grid_gap": null,
            "grid_row": null,
            "grid_template_areas": null,
            "grid_template_columns": null,
            "grid_template_rows": null,
            "height": null,
            "justify_content": null,
            "justify_items": null,
            "left": null,
            "margin": null,
            "max_height": null,
            "max_width": null,
            "min_height": null,
            "min_width": null,
            "object_fit": null,
            "object_position": null,
            "order": null,
            "overflow": null,
            "overflow_x": null,
            "overflow_y": null,
            "padding": null,
            "right": null,
            "top": null,
            "visibility": null,
            "width": null
          }
        },
        "cbc289c0627b47d79febfd3135d1b2ff": {
          "model_module": "@jupyter-widgets/controls",
          "model_name": "DescriptionStyleModel",
          "model_module_version": "1.5.0",
          "state": {
            "_model_module": "@jupyter-widgets/controls",
            "_model_module_version": "1.5.0",
            "_model_name": "DescriptionStyleModel",
            "_view_count": null,
            "_view_module": "@jupyter-widgets/base",
            "_view_module_version": "1.2.0",
            "_view_name": "StyleView",
            "description_width": ""
          }
        },
        "0915d763985a471895835643dbb74899": {
          "model_module": "@jupyter-widgets/controls",
          "model_name": "HBoxModel",
          "model_module_version": "1.5.0",
          "state": {
            "_dom_classes": [],
            "_model_module": "@jupyter-widgets/controls",
            "_model_module_version": "1.5.0",
            "_model_name": "HBoxModel",
            "_view_count": null,
            "_view_module": "@jupyter-widgets/controls",
            "_view_module_version": "1.5.0",
            "_view_name": "HBoxView",
            "box_style": "",
            "children": [
              "IPY_MODEL_a48d042e8c6942beabc4dcdd3b6ce200",
              "IPY_MODEL_c5cf30a5716a418f823c87163ccc3768",
              "IPY_MODEL_54d136ab4e704e0cb25b38d16ec9a70f"
            ],
            "layout": "IPY_MODEL_bbfd7e93631b459784970aa632074c80"
          }
        },
        "a48d042e8c6942beabc4dcdd3b6ce200": {
          "model_module": "@jupyter-widgets/controls",
          "model_name": "HTMLModel",
          "model_module_version": "1.5.0",
          "state": {
            "_dom_classes": [],
            "_model_module": "@jupyter-widgets/controls",
            "_model_module_version": "1.5.0",
            "_model_name": "HTMLModel",
            "_view_count": null,
            "_view_module": "@jupyter-widgets/controls",
            "_view_module_version": "1.5.0",
            "_view_name": "HTMLView",
            "description": "",
            "description_tooltip": null,
            "layout": "IPY_MODEL_ef925c85e1f04ba88860c94b93afaa9f",
            "placeholder": "​",
            "style": "IPY_MODEL_46c63e9939af4b2ba15f4eb4211ad72c",
            "value": "Map: 100%"
          }
        },
        "c5cf30a5716a418f823c87163ccc3768": {
          "model_module": "@jupyter-widgets/controls",
          "model_name": "FloatProgressModel",
          "model_module_version": "1.5.0",
          "state": {
            "_dom_classes": [],
            "_model_module": "@jupyter-widgets/controls",
            "_model_module_version": "1.5.0",
            "_model_name": "FloatProgressModel",
            "_view_count": null,
            "_view_module": "@jupyter-widgets/controls",
            "_view_module_version": "1.5.0",
            "_view_name": "ProgressView",
            "bar_style": "success",
            "description": "",
            "description_tooltip": null,
            "layout": "IPY_MODEL_09bc563e648e4a17be9d7708b2814b1d",
            "max": 445,
            "min": 0,
            "orientation": "horizontal",
            "style": "IPY_MODEL_574352f81b4c4d8c8e65ce4c59e55b05",
            "value": 445
          }
        },
        "54d136ab4e704e0cb25b38d16ec9a70f": {
          "model_module": "@jupyter-widgets/controls",
          "model_name": "HTMLModel",
          "model_module_version": "1.5.0",
          "state": {
            "_dom_classes": [],
            "_model_module": "@jupyter-widgets/controls",
            "_model_module_version": "1.5.0",
            "_model_name": "HTMLModel",
            "_view_count": null,
            "_view_module": "@jupyter-widgets/controls",
            "_view_module_version": "1.5.0",
            "_view_name": "HTMLView",
            "description": "",
            "description_tooltip": null,
            "layout": "IPY_MODEL_ba40c631dfea41cb8165f2366940a4cd",
            "placeholder": "​",
            "style": "IPY_MODEL_6307d8cb7741468db70080475eda63fa",
            "value": " 445/445 [00:03&lt;00:00, 116.51 examples/s]"
          }
        },
        "bbfd7e93631b459784970aa632074c80": {
          "model_module": "@jupyter-widgets/base",
          "model_name": "LayoutModel",
          "model_module_version": "1.2.0",
          "state": {
            "_model_module": "@jupyter-widgets/base",
            "_model_module_version": "1.2.0",
            "_model_name": "LayoutModel",
            "_view_count": null,
            "_view_module": "@jupyter-widgets/base",
            "_view_module_version": "1.2.0",
            "_view_name": "LayoutView",
            "align_content": null,
            "align_items": null,
            "align_self": null,
            "border": null,
            "bottom": null,
            "display": null,
            "flex": null,
            "flex_flow": null,
            "grid_area": null,
            "grid_auto_columns": null,
            "grid_auto_flow": null,
            "grid_auto_rows": null,
            "grid_column": null,
            "grid_gap": null,
            "grid_row": null,
            "grid_template_areas": null,
            "grid_template_columns": null,
            "grid_template_rows": null,
            "height": null,
            "justify_content": null,
            "justify_items": null,
            "left": null,
            "margin": null,
            "max_height": null,
            "max_width": null,
            "min_height": null,
            "min_width": null,
            "object_fit": null,
            "object_position": null,
            "order": null,
            "overflow": null,
            "overflow_x": null,
            "overflow_y": null,
            "padding": null,
            "right": null,
            "top": null,
            "visibility": null,
            "width": null
          }
        },
        "ef925c85e1f04ba88860c94b93afaa9f": {
          "model_module": "@jupyter-widgets/base",
          "model_name": "LayoutModel",
          "model_module_version": "1.2.0",
          "state": {
            "_model_module": "@jupyter-widgets/base",
            "_model_module_version": "1.2.0",
            "_model_name": "LayoutModel",
            "_view_count": null,
            "_view_module": "@jupyter-widgets/base",
            "_view_module_version": "1.2.0",
            "_view_name": "LayoutView",
            "align_content": null,
            "align_items": null,
            "align_self": null,
            "border": null,
            "bottom": null,
            "display": null,
            "flex": null,
            "flex_flow": null,
            "grid_area": null,
            "grid_auto_columns": null,
            "grid_auto_flow": null,
            "grid_auto_rows": null,
            "grid_column": null,
            "grid_gap": null,
            "grid_row": null,
            "grid_template_areas": null,
            "grid_template_columns": null,
            "grid_template_rows": null,
            "height": null,
            "justify_content": null,
            "justify_items": null,
            "left": null,
            "margin": null,
            "max_height": null,
            "max_width": null,
            "min_height": null,
            "min_width": null,
            "object_fit": null,
            "object_position": null,
            "order": null,
            "overflow": null,
            "overflow_x": null,
            "overflow_y": null,
            "padding": null,
            "right": null,
            "top": null,
            "visibility": null,
            "width": null
          }
        },
        "46c63e9939af4b2ba15f4eb4211ad72c": {
          "model_module": "@jupyter-widgets/controls",
          "model_name": "DescriptionStyleModel",
          "model_module_version": "1.5.0",
          "state": {
            "_model_module": "@jupyter-widgets/controls",
            "_model_module_version": "1.5.0",
            "_model_name": "DescriptionStyleModel",
            "_view_count": null,
            "_view_module": "@jupyter-widgets/base",
            "_view_module_version": "1.2.0",
            "_view_name": "StyleView",
            "description_width": ""
          }
        },
        "09bc563e648e4a17be9d7708b2814b1d": {
          "model_module": "@jupyter-widgets/base",
          "model_name": "LayoutModel",
          "model_module_version": "1.2.0",
          "state": {
            "_model_module": "@jupyter-widgets/base",
            "_model_module_version": "1.2.0",
            "_model_name": "LayoutModel",
            "_view_count": null,
            "_view_module": "@jupyter-widgets/base",
            "_view_module_version": "1.2.0",
            "_view_name": "LayoutView",
            "align_content": null,
            "align_items": null,
            "align_self": null,
            "border": null,
            "bottom": null,
            "display": null,
            "flex": null,
            "flex_flow": null,
            "grid_area": null,
            "grid_auto_columns": null,
            "grid_auto_flow": null,
            "grid_auto_rows": null,
            "grid_column": null,
            "grid_gap": null,
            "grid_row": null,
            "grid_template_areas": null,
            "grid_template_columns": null,
            "grid_template_rows": null,
            "height": null,
            "justify_content": null,
            "justify_items": null,
            "left": null,
            "margin": null,
            "max_height": null,
            "max_width": null,
            "min_height": null,
            "min_width": null,
            "object_fit": null,
            "object_position": null,
            "order": null,
            "overflow": null,
            "overflow_x": null,
            "overflow_y": null,
            "padding": null,
            "right": null,
            "top": null,
            "visibility": null,
            "width": null
          }
        },
        "574352f81b4c4d8c8e65ce4c59e55b05": {
          "model_module": "@jupyter-widgets/controls",
          "model_name": "ProgressStyleModel",
          "model_module_version": "1.5.0",
          "state": {
            "_model_module": "@jupyter-widgets/controls",
            "_model_module_version": "1.5.0",
            "_model_name": "ProgressStyleModel",
            "_view_count": null,
            "_view_module": "@jupyter-widgets/base",
            "_view_module_version": "1.2.0",
            "_view_name": "StyleView",
            "bar_color": null,
            "description_width": ""
          }
        },
        "ba40c631dfea41cb8165f2366940a4cd": {
          "model_module": "@jupyter-widgets/base",
          "model_name": "LayoutModel",
          "model_module_version": "1.2.0",
          "state": {
            "_model_module": "@jupyter-widgets/base",
            "_model_module_version": "1.2.0",
            "_model_name": "LayoutModel",
            "_view_count": null,
            "_view_module": "@jupyter-widgets/base",
            "_view_module_version": "1.2.0",
            "_view_name": "LayoutView",
            "align_content": null,
            "align_items": null,
            "align_self": null,
            "border": null,
            "bottom": null,
            "display": null,
            "flex": null,
            "flex_flow": null,
            "grid_area": null,
            "grid_auto_columns": null,
            "grid_auto_flow": null,
            "grid_auto_rows": null,
            "grid_column": null,
            "grid_gap": null,
            "grid_row": null,
            "grid_template_areas": null,
            "grid_template_columns": null,
            "grid_template_rows": null,
            "height": null,
            "justify_content": null,
            "justify_items": null,
            "left": null,
            "margin": null,
            "max_height": null,
            "max_width": null,
            "min_height": null,
            "min_width": null,
            "object_fit": null,
            "object_position": null,
            "order": null,
            "overflow": null,
            "overflow_x": null,
            "overflow_y": null,
            "padding": null,
            "right": null,
            "top": null,
            "visibility": null,
            "width": null
          }
        },
        "6307d8cb7741468db70080475eda63fa": {
          "model_module": "@jupyter-widgets/controls",
          "model_name": "DescriptionStyleModel",
          "model_module_version": "1.5.0",
          "state": {
            "_model_module": "@jupyter-widgets/controls",
            "_model_module_version": "1.5.0",
            "_model_name": "DescriptionStyleModel",
            "_view_count": null,
            "_view_module": "@jupyter-widgets/base",
            "_view_module_version": "1.2.0",
            "_view_name": "StyleView",
            "description_width": ""
          }
        }
      }
    }
  },
  "nbformat": 4,
  "nbformat_minor": 5
}